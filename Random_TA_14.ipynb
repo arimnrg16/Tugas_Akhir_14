{
 "cells": [
  {
   "cell_type": "code",
   "execution_count": null,
   "metadata": {},
   "outputs": [],
   "source": []
  },
  {
   "cell_type": "markdown",
   "metadata": {},
   "source": [
    "##### After Preprocessing"
   ]
  },
  {
   "cell_type": "code",
   "execution_count": 1,
   "metadata": {},
   "outputs": [],
   "source": [
    "import pandas as pd\n",
    "import numpy as np\n",
    "import random\n",
    "\n",
    "from sklearn.neighbors import DistanceMetric\n",
    "from math import radians"
   ]
  },
  {
   "cell_type": "code",
   "execution_count": 2,
   "metadata": {},
   "outputs": [],
   "source": [
    "Data = pd.read_csv('Final_results.csv')"
   ]
  },
  {
   "cell_type": "code",
   "execution_count": 3,
   "metadata": {},
   "outputs": [
    {
     "data": {
      "text/html": [
       "<div>\n",
       "<style scoped>\n",
       "    .dataframe tbody tr th:only-of-type {\n",
       "        vertical-align: middle;\n",
       "    }\n",
       "\n",
       "    .dataframe tbody tr th {\n",
       "        vertical-align: top;\n",
       "    }\n",
       "\n",
       "    .dataframe thead th {\n",
       "        text-align: right;\n",
       "    }\n",
       "</style>\n",
       "<table border=\"1\" class=\"dataframe\">\n",
       "  <thead>\n",
       "    <tr style=\"text-align: right;\">\n",
       "      <th></th>\n",
       "      <th>Geometri</th>\n",
       "      <th>Latitude</th>\n",
       "      <th>Longitude</th>\n",
       "      <th>City</th>\n",
       "      <th>Biaya</th>\n",
       "      <th>21-Dec-19</th>\n",
       "      <th>22-Dec-19</th>\n",
       "      <th>23-Dec-19</th>\n",
       "      <th>24-Dec-19</th>\n",
       "      <th>25-Dec-19</th>\n",
       "      <th>26-Dec-19</th>\n",
       "      <th>27-Dec-19</th>\n",
       "      <th>28-Dec-19</th>\n",
       "    </tr>\n",
       "  </thead>\n",
       "  <tbody>\n",
       "    <tr>\n",
       "      <th>0</th>\n",
       "      <td>northeast</td>\n",
       "      <td>0.048731</td>\n",
       "      <td>1.719746</td>\n",
       "      <td>Tao Silalahi hotel</td>\n",
       "      <td>IDR -</td>\n",
       "      <td>24</td>\n",
       "      <td>26</td>\n",
       "      <td>27</td>\n",
       "      <td>27</td>\n",
       "      <td>27</td>\n",
       "      <td>26</td>\n",
       "      <td>27</td>\n",
       "      <td>26</td>\n",
       "    </tr>\n",
       "    <tr>\n",
       "      <th>1</th>\n",
       "      <td>northeast</td>\n",
       "      <td>0.046310</td>\n",
       "      <td>1.717087</td>\n",
       "      <td>\"Sicike-cike\" Nature Park</td>\n",
       "      <td>IDR -</td>\n",
       "      <td>24</td>\n",
       "      <td>26</td>\n",
       "      <td>27</td>\n",
       "      <td>27</td>\n",
       "      <td>27</td>\n",
       "      <td>26</td>\n",
       "      <td>27</td>\n",
       "      <td>26</td>\n",
       "    </tr>\n",
       "    <tr>\n",
       "      <th>2</th>\n",
       "      <td>northeast</td>\n",
       "      <td>0.047703</td>\n",
       "      <td>1.717085</td>\n",
       "      <td>Taman Wisata Iman Sitinjo, Dairi</td>\n",
       "      <td>IDR 300,000.00</td>\n",
       "      <td>23</td>\n",
       "      <td>25</td>\n",
       "      <td>26</td>\n",
       "      <td>26</td>\n",
       "      <td>26</td>\n",
       "      <td>25</td>\n",
       "      <td>26</td>\n",
       "      <td>26</td>\n",
       "    </tr>\n",
       "    <tr>\n",
       "      <th>3</th>\n",
       "      <td>northeast</td>\n",
       "      <td>0.047753</td>\n",
       "      <td>1.717110</td>\n",
       "      <td>Air Terjun Jembatan Lae Pendaroh</td>\n",
       "      <td>IDR 20,000.00</td>\n",
       "      <td>23</td>\n",
       "      <td>25</td>\n",
       "      <td>26</td>\n",
       "      <td>26</td>\n",
       "      <td>26</td>\n",
       "      <td>25</td>\n",
       "      <td>26</td>\n",
       "      <td>26</td>\n",
       "    </tr>\n",
       "    <tr>\n",
       "      <th>4</th>\n",
       "      <td>northeast</td>\n",
       "      <td>0.047099</td>\n",
       "      <td>1.715783</td>\n",
       "      <td>Peak Tree House Sidikalang</td>\n",
       "      <td>IDR 762,300.00</td>\n",
       "      <td>23</td>\n",
       "      <td>25</td>\n",
       "      <td>26</td>\n",
       "      <td>26</td>\n",
       "      <td>26</td>\n",
       "      <td>25</td>\n",
       "      <td>26</td>\n",
       "      <td>26</td>\n",
       "    </tr>\n",
       "  </tbody>\n",
       "</table>\n",
       "</div>"
      ],
      "text/plain": [
       "    Geometri  Latitude  Longitude                              City  \\\n",
       "0  northeast  0.048731   1.719746                Tao Silalahi hotel   \n",
       "1  northeast  0.046310   1.717087         \"Sicike-cike\" Nature Park   \n",
       "2  northeast  0.047703   1.717085  Taman Wisata Iman Sitinjo, Dairi   \n",
       "3  northeast  0.047753   1.717110  Air Terjun Jembatan Lae Pendaroh   \n",
       "4  northeast  0.047099   1.715783        Peak Tree House Sidikalang   \n",
       "\n",
       "              Biaya  21-Dec-19  22-Dec-19  23-Dec-19  24-Dec-19  25-Dec-19  \\\n",
       "0          IDR -            24         26         27         27         27   \n",
       "1          IDR -            24         26         27         27         27   \n",
       "2   IDR 300,000.00          23         25         26         26         26   \n",
       "3    IDR 20,000.00          23         25         26         26         26   \n",
       "4   IDR 762,300.00          23         25         26         26         26   \n",
       "\n",
       "   26-Dec-19  27-Dec-19  28-Dec-19  \n",
       "0         26         27         26  \n",
       "1         26         27         26  \n",
       "2         25         26         26  \n",
       "3         25         26         26  \n",
       "4         25         26         26  "
      ]
     },
     "execution_count": 3,
     "metadata": {},
     "output_type": "execute_result"
    }
   ],
   "source": [
    "Data.head()"
   ]
  },
  {
   "cell_type": "code",
   "execution_count": 4,
   "metadata": {},
   "outputs": [],
   "source": [
    "#Data.loc[153]"
   ]
  },
  {
   "cell_type": "code",
   "execution_count": 5,
   "metadata": {},
   "outputs": [],
   "source": [
    "Data = Data.assign(ID_City=np.arange(len(Data))).reset_index(drop=True)"
   ]
  },
  {
   "cell_type": "code",
   "execution_count": 6,
   "metadata": {
    "scrolled": true
   },
   "outputs": [
    {
     "data": {
      "text/html": [
       "<div>\n",
       "<style scoped>\n",
       "    .dataframe tbody tr th:only-of-type {\n",
       "        vertical-align: middle;\n",
       "    }\n",
       "\n",
       "    .dataframe tbody tr th {\n",
       "        vertical-align: top;\n",
       "    }\n",
       "\n",
       "    .dataframe thead th {\n",
       "        text-align: right;\n",
       "    }\n",
       "</style>\n",
       "<table border=\"1\" class=\"dataframe\">\n",
       "  <thead>\n",
       "    <tr style=\"text-align: right;\">\n",
       "      <th></th>\n",
       "      <th>Geometri</th>\n",
       "      <th>Latitude</th>\n",
       "      <th>Longitude</th>\n",
       "      <th>City</th>\n",
       "      <th>Biaya</th>\n",
       "      <th>21-Dec-19</th>\n",
       "      <th>22-Dec-19</th>\n",
       "      <th>23-Dec-19</th>\n",
       "      <th>24-Dec-19</th>\n",
       "      <th>25-Dec-19</th>\n",
       "      <th>26-Dec-19</th>\n",
       "      <th>27-Dec-19</th>\n",
       "      <th>28-Dec-19</th>\n",
       "      <th>ID_City</th>\n",
       "    </tr>\n",
       "  </thead>\n",
       "  <tbody>\n",
       "    <tr>\n",
       "      <th>0</th>\n",
       "      <td>northeast</td>\n",
       "      <td>0.048731</td>\n",
       "      <td>1.719746</td>\n",
       "      <td>Tao Silalahi hotel</td>\n",
       "      <td>IDR -</td>\n",
       "      <td>24</td>\n",
       "      <td>26</td>\n",
       "      <td>27</td>\n",
       "      <td>27</td>\n",
       "      <td>27</td>\n",
       "      <td>26</td>\n",
       "      <td>27</td>\n",
       "      <td>26</td>\n",
       "      <td>0</td>\n",
       "    </tr>\n",
       "    <tr>\n",
       "      <th>1</th>\n",
       "      <td>northeast</td>\n",
       "      <td>0.046310</td>\n",
       "      <td>1.717087</td>\n",
       "      <td>\"Sicike-cike\" Nature Park</td>\n",
       "      <td>IDR -</td>\n",
       "      <td>24</td>\n",
       "      <td>26</td>\n",
       "      <td>27</td>\n",
       "      <td>27</td>\n",
       "      <td>27</td>\n",
       "      <td>26</td>\n",
       "      <td>27</td>\n",
       "      <td>26</td>\n",
       "      <td>1</td>\n",
       "    </tr>\n",
       "    <tr>\n",
       "      <th>2</th>\n",
       "      <td>northeast</td>\n",
       "      <td>0.047703</td>\n",
       "      <td>1.717085</td>\n",
       "      <td>Taman Wisata Iman Sitinjo, Dairi</td>\n",
       "      <td>IDR 300,000.00</td>\n",
       "      <td>23</td>\n",
       "      <td>25</td>\n",
       "      <td>26</td>\n",
       "      <td>26</td>\n",
       "      <td>26</td>\n",
       "      <td>25</td>\n",
       "      <td>26</td>\n",
       "      <td>26</td>\n",
       "      <td>2</td>\n",
       "    </tr>\n",
       "    <tr>\n",
       "      <th>3</th>\n",
       "      <td>northeast</td>\n",
       "      <td>0.047753</td>\n",
       "      <td>1.717110</td>\n",
       "      <td>Air Terjun Jembatan Lae Pendaroh</td>\n",
       "      <td>IDR 20,000.00</td>\n",
       "      <td>23</td>\n",
       "      <td>25</td>\n",
       "      <td>26</td>\n",
       "      <td>26</td>\n",
       "      <td>26</td>\n",
       "      <td>25</td>\n",
       "      <td>26</td>\n",
       "      <td>26</td>\n",
       "      <td>3</td>\n",
       "    </tr>\n",
       "    <tr>\n",
       "      <th>4</th>\n",
       "      <td>northeast</td>\n",
       "      <td>0.047099</td>\n",
       "      <td>1.715783</td>\n",
       "      <td>Peak Tree House Sidikalang</td>\n",
       "      <td>IDR 762,300.00</td>\n",
       "      <td>23</td>\n",
       "      <td>25</td>\n",
       "      <td>26</td>\n",
       "      <td>26</td>\n",
       "      <td>26</td>\n",
       "      <td>25</td>\n",
       "      <td>26</td>\n",
       "      <td>26</td>\n",
       "      <td>4</td>\n",
       "    </tr>\n",
       "  </tbody>\n",
       "</table>\n",
       "</div>"
      ],
      "text/plain": [
       "    Geometri  Latitude  Longitude                              City  \\\n",
       "0  northeast  0.048731   1.719746                Tao Silalahi hotel   \n",
       "1  northeast  0.046310   1.717087         \"Sicike-cike\" Nature Park   \n",
       "2  northeast  0.047703   1.717085  Taman Wisata Iman Sitinjo, Dairi   \n",
       "3  northeast  0.047753   1.717110  Air Terjun Jembatan Lae Pendaroh   \n",
       "4  northeast  0.047099   1.715783        Peak Tree House Sidikalang   \n",
       "\n",
       "              Biaya  21-Dec-19  22-Dec-19  23-Dec-19  24-Dec-19  25-Dec-19  \\\n",
       "0          IDR -            24         26         27         27         27   \n",
       "1          IDR -            24         26         27         27         27   \n",
       "2   IDR 300,000.00          23         25         26         26         26   \n",
       "3    IDR 20,000.00          23         25         26         26         26   \n",
       "4   IDR 762,300.00          23         25         26         26         26   \n",
       "\n",
       "   26-Dec-19  27-Dec-19  28-Dec-19  ID_City  \n",
       "0         26         27         26        0  \n",
       "1         26         27         26        1  \n",
       "2         25         26         26        2  \n",
       "3         25         26         26        3  \n",
       "4         25         26         26        4  "
      ]
     },
     "execution_count": 6,
     "metadata": {},
     "output_type": "execute_result"
    }
   ],
   "source": [
    "Data.head()"
   ]
  },
  {
   "cell_type": "code",
   "execution_count": 7,
   "metadata": {
    "scrolled": true
   },
   "outputs": [],
   "source": [
    "a= Data['ID_City'].to_numpy()"
   ]
  },
  {
   "cell_type": "code",
   "execution_count": 8,
   "metadata": {},
   "outputs": [],
   "source": [
    "import random\n",
    "initial_state = []\n",
    "def Initial_State_Awal(a):\n",
    "    for i in range (10):\n",
    "        x = random.choice(a)\n",
    "        if x not in initial_state:\n",
    "            initial_state.append(x)            \n",
    "    return initial_state\n",
    "    "
   ]
  },
  {
   "cell_type": "code",
   "execution_count": 9,
   "metadata": {},
   "outputs": [
    {
     "name": "stdout",
     "output_type": "stream",
     "text": [
      "[132, 24, 90, 111, 125, 33, 107, 148, 75]\n"
     ]
    }
   ],
   "source": [
    "results = Initial_State_Awal(a)\n",
    "print(results)"
   ]
  },
  {
   "cell_type": "code",
   "execution_count": 10,
   "metadata": {},
   "outputs": [
    {
     "name": "stdout",
     "output_type": "stream",
     "text": [
      "[[20, 69, 15, 18, 144, 17, 29, 7, 105, 5], [20, 69, 15, 18, 144, 17, 29, 7, 105, 5], [20, 69, 15, 18, 144, 17, 29, 7, 105, 5], [20, 69, 15, 18, 144, 17, 29, 7, 105, 5], [20, 69, 15, 18, 144, 17, 29, 7, 105, 5], [20, 69, 15, 18, 144, 17, 29, 7, 105, 5], [20, 69, 15, 18, 144, 17, 29, 7, 105, 5], [20, 69, 15, 18, 144, 17, 29, 7, 105, 5], [20, 69, 15, 18, 144, 17, 29, 7, 105, 5], [20, 69, 15, 18, 144, 17, 29, 7, 105, 5]]\n"
     ]
    }
   ],
   "source": [
    "#bagian percobaan\n",
    "\n",
    "arr = []\n",
    "\n",
    "for i in range(10):\n",
    "    results.clear()\n",
    "    results = Initial_State_Awal(a)\n",
    "    arr.append(results)\n",
    "    \n",
    "print(arr)"
   ]
  },
  {
   "cell_type": "code",
   "execution_count": 11,
   "metadata": {},
   "outputs": [],
   "source": [
    "arr1= []\n",
    "\n",
    "def Encoding(awal):\n",
    "    result = 0\n",
    "    p = 1\n",
    "    arr1.clear()\n",
    "    for i in range(len(a)):       \n",
    "        for x in range(len(results)):\n",
    "            if  awal[x] == a[i]:\n",
    "                result =p\n",
    "                p+=1\n",
    "                break\n",
    "            else:\n",
    "                result *= 0\n",
    "        arr1.append(result)\n",
    "\n",
    "    return arr1\n"
   ]
  },
  {
   "cell_type": "code",
   "execution_count": 12,
   "metadata": {},
   "outputs": [
    {
     "name": "stdout",
     "output_type": "stream",
     "text": [
      "[0, 0, 0, 0, 0, 1, 0, 2, 0, 0, 0, 0, 0, 0, 0, 3, 0, 4, 5, 0, 6, 0, 0, 0, 0, 0, 0, 0, 0, 7, 0, 0, 0, 0, 0, 0, 0, 0, 0, 0, 0, 0, 0, 0, 0, 0, 0, 0, 0, 0, 0, 0, 0, 0, 0, 0, 0, 0, 0, 0, 0, 0, 0, 0, 0, 0, 0, 0, 0, 8, 0, 0, 0, 0, 0, 0, 0, 0, 0, 0, 0, 0, 0, 0, 0, 0, 0, 0, 0, 0, 0, 0, 0, 0, 0, 0, 0, 0, 0, 0, 0, 0, 0, 0, 0, 9, 0, 0, 0, 0, 0, 0, 0, 0, 0, 0, 0, 0, 0, 0, 0, 0, 0, 0, 0, 0, 0, 0, 0, 0, 0, 0, 0, 0, 0, 0, 0, 0, 0, 0, 0, 0, 0, 0, 10, 0, 0, 0, 0, 0, 0, 0, 0, 0, 0, 0]\n"
     ]
    }
   ],
   "source": [
    "print(Encoding(results))"
   ]
  },
  {
   "cell_type": "code",
   "execution_count": 13,
   "metadata": {},
   "outputs": [],
   "source": [
    "# Getting distance\n",
    "param = []\n",
    "temp = []\n",
    "def getting_distance(param):\n",
    "    for i in range(len(a)):       \n",
    "        for x in range(len(results)):\n",
    "            if results[x] == a[i]:\n",
    "                temp = Data.iloc[i]['City'] \n",
    "                param.append((temp, (Data.iloc[i][1], Data.iloc[i][2])))\n",
    "                break\n",
    "    return param "
   ]
  },
  {
   "cell_type": "code",
   "execution_count": 14,
   "metadata": {},
   "outputs": [
    {
     "data": {
      "text/plain": [
       "[('Tugu Marga Silalahi', (0.049115081, 1.7196645380000002)),\n",
       " ('Taman Rekreasi', (0.04790114, 1.715924279)),\n",
       " ('Perkemahan Paropo', (0.049678652999999996, 1.7196611240000002)),\n",
       " ('Air Terjun Janji', (0.041217633, 1.7246947240000001)),\n",
       " ('Tombak Sulusulu', (0.04030653, 1.724514136)),\n",
       " ('Air Terjun Pollung', (0.037291995, 1.719963827)),\n",
       " ('objek wisata baronjong aek sirahar', (0.038620995, 1.719916979)),\n",
       " ('Bukit Beta Tuk-tuk', (0.046470724000000005, 1.725224597)),\n",
       " ('Aek Manik', (0.050030147999999997, 1.7265188230000001)),\n",
       " ('Pemandian Air Soda', (0.034937502999999995, 1.727304688))]"
      ]
     },
     "execution_count": 14,
     "metadata": {},
     "output_type": "execute_result"
    }
   ],
   "source": [
    "getting_distance(param)"
   ]
  },
  {
   "cell_type": "code",
   "execution_count": null,
   "metadata": {},
   "outputs": [],
   "source": []
  },
  {
   "cell_type": "code",
   "execution_count": null,
   "metadata": {},
   "outputs": [],
   "source": []
  },
  {
   "cell_type": "code",
   "execution_count": 15,
   "metadata": {},
   "outputs": [],
   "source": [
    "# Getting Total biaya"
   ]
  },
  {
   "cell_type": "code",
   "execution_count": 16,
   "metadata": {},
   "outputs": [],
   "source": [
    "# Getting distance\n",
    "param = []\n",
    "temp = []\n",
    "def getting_Cost(param):\n",
    "    for i in range(len(a)):       \n",
    "        for x in range(len(results)):\n",
    "            if results[x] == a[i]:\n",
    "                temp = Data.iloc[i]['Biaya'] \n",
    "                param.append((temp, Data.iloc[i][3]))\n",
    "                break\n",
    "    return param "
   ]
  },
  {
   "cell_type": "code",
   "execution_count": 17,
   "metadata": {},
   "outputs": [
    {
     "data": {
      "text/plain": [
       "[(' IDR 10,000.00 ', 'Tugu Marga Silalahi'),\n",
       " (' IDR 5,000.00 ', 'Taman Rekreasi'),\n",
       " (' IDR 5,000.00 ', 'Perkemahan Paropo'),\n",
       " (' IDR 5,000.00 ', 'Air Terjun Janji'),\n",
       " (' IDR -   ', 'Tombak Sulusulu'),\n",
       " (' IDR 15,000.00 ', 'Air Terjun Pollung'),\n",
       " (' IDR 20,000.00 ', 'objek wisata baronjong aek sirahar'),\n",
       " (' IDR 10,000.00 ', 'Bukit Beta Tuk-tuk'),\n",
       " (' IDR -   ', 'Aek Manik'),\n",
       " (' IDR 7,000.00 ', 'Pemandian Air Soda')]"
      ]
     },
     "execution_count": 17,
     "metadata": {},
     "output_type": "execute_result"
    }
   ],
   "source": [
    "getting_Cost(param)"
   ]
  },
  {
   "cell_type": "code",
   "execution_count": null,
   "metadata": {},
   "outputs": [],
   "source": []
  },
  {
   "cell_type": "code",
   "execution_count": null,
   "metadata": {},
   "outputs": [],
   "source": []
  }
 ],
 "metadata": {
  "kernelspec": {
   "display_name": "Python 3",
   "language": "python",
   "name": "python3"
  },
  "language_info": {
   "codemirror_mode": {
    "name": "ipython",
    "version": 3
   },
   "file_extension": ".py",
   "mimetype": "text/x-python",
   "name": "python",
   "nbconvert_exporter": "python",
   "pygments_lexer": "ipython3",
   "version": "3.7.3"
  }
 },
 "nbformat": 4,
 "nbformat_minor": 2
}
