{
 "cells": [
  {
   "cell_type": "code",
   "execution_count": null,
   "metadata": {},
   "outputs": [],
   "source": []
  },
  {
   "cell_type": "markdown",
   "metadata": {},
   "source": [
    "##### After Preprocessing"
   ]
  },
  {
   "cell_type": "code",
   "execution_count": 1,
   "metadata": {},
   "outputs": [],
   "source": [
    "import pandas as pd\n",
    "import numpy as np\n",
    "import random\n",
    "\n",
    "from sklearn.neighbors import DistanceMetric\n",
    "from math import radians"
   ]
  },
  {
   "cell_type": "code",
   "execution_count": 2,
   "metadata": {},
   "outputs": [],
   "source": [
    "Data = pd.read_csv('Final_results.csv')"
   ]
  },
  {
   "cell_type": "code",
   "execution_count": 3,
   "metadata": {},
   "outputs": [
    {
     "data": {
      "text/html": [
       "<div>\n",
       "<style scoped>\n",
       "    .dataframe tbody tr th:only-of-type {\n",
       "        vertical-align: middle;\n",
       "    }\n",
       "\n",
       "    .dataframe tbody tr th {\n",
       "        vertical-align: top;\n",
       "    }\n",
       "\n",
       "    .dataframe thead th {\n",
       "        text-align: right;\n",
       "    }\n",
       "</style>\n",
       "<table border=\"1\" class=\"dataframe\">\n",
       "  <thead>\n",
       "    <tr style=\"text-align: right;\">\n",
       "      <th></th>\n",
       "      <th>Geometri</th>\n",
       "      <th>Latitude</th>\n",
       "      <th>Longitude</th>\n",
       "      <th>City</th>\n",
       "      <th>Biaya</th>\n",
       "      <th>21-Dec-19</th>\n",
       "      <th>22-Dec-19</th>\n",
       "      <th>23-Dec-19</th>\n",
       "      <th>24-Dec-19</th>\n",
       "      <th>25-Dec-19</th>\n",
       "      <th>26-Dec-19</th>\n",
       "      <th>27-Dec-19</th>\n",
       "      <th>28-Dec-19</th>\n",
       "    </tr>\n",
       "  </thead>\n",
       "  <tbody>\n",
       "    <tr>\n",
       "      <th>0</th>\n",
       "      <td>northeast</td>\n",
       "      <td>0.048731</td>\n",
       "      <td>1.719746</td>\n",
       "      <td>Tao Silalahi hotel</td>\n",
       "      <td>IDR -</td>\n",
       "      <td>24</td>\n",
       "      <td>26</td>\n",
       "      <td>27</td>\n",
       "      <td>27</td>\n",
       "      <td>27</td>\n",
       "      <td>26</td>\n",
       "      <td>27</td>\n",
       "      <td>26</td>\n",
       "    </tr>\n",
       "    <tr>\n",
       "      <th>1</th>\n",
       "      <td>northeast</td>\n",
       "      <td>0.046310</td>\n",
       "      <td>1.717087</td>\n",
       "      <td>\"Sicike-cike\" Nature Park</td>\n",
       "      <td>IDR -</td>\n",
       "      <td>24</td>\n",
       "      <td>26</td>\n",
       "      <td>27</td>\n",
       "      <td>27</td>\n",
       "      <td>27</td>\n",
       "      <td>26</td>\n",
       "      <td>27</td>\n",
       "      <td>26</td>\n",
       "    </tr>\n",
       "    <tr>\n",
       "      <th>2</th>\n",
       "      <td>northeast</td>\n",
       "      <td>0.047703</td>\n",
       "      <td>1.717085</td>\n",
       "      <td>Taman Wisata Iman Sitinjo, Dairi</td>\n",
       "      <td>IDR 300,000.00</td>\n",
       "      <td>23</td>\n",
       "      <td>25</td>\n",
       "      <td>26</td>\n",
       "      <td>26</td>\n",
       "      <td>26</td>\n",
       "      <td>25</td>\n",
       "      <td>26</td>\n",
       "      <td>26</td>\n",
       "    </tr>\n",
       "    <tr>\n",
       "      <th>3</th>\n",
       "      <td>northeast</td>\n",
       "      <td>0.047753</td>\n",
       "      <td>1.717110</td>\n",
       "      <td>Air Terjun Jembatan Lae Pendaroh</td>\n",
       "      <td>IDR 20,000.00</td>\n",
       "      <td>23</td>\n",
       "      <td>25</td>\n",
       "      <td>26</td>\n",
       "      <td>26</td>\n",
       "      <td>26</td>\n",
       "      <td>25</td>\n",
       "      <td>26</td>\n",
       "      <td>26</td>\n",
       "    </tr>\n",
       "    <tr>\n",
       "      <th>4</th>\n",
       "      <td>northeast</td>\n",
       "      <td>0.047099</td>\n",
       "      <td>1.715783</td>\n",
       "      <td>Peak Tree House Sidikalang</td>\n",
       "      <td>IDR 762,300.00</td>\n",
       "      <td>23</td>\n",
       "      <td>25</td>\n",
       "      <td>26</td>\n",
       "      <td>26</td>\n",
       "      <td>26</td>\n",
       "      <td>25</td>\n",
       "      <td>26</td>\n",
       "      <td>26</td>\n",
       "    </tr>\n",
       "  </tbody>\n",
       "</table>\n",
       "</div>"
      ],
      "text/plain": [
       "    Geometri  Latitude  Longitude                              City  \\\n",
       "0  northeast  0.048731   1.719746                Tao Silalahi hotel   \n",
       "1  northeast  0.046310   1.717087         \"Sicike-cike\" Nature Park   \n",
       "2  northeast  0.047703   1.717085  Taman Wisata Iman Sitinjo, Dairi   \n",
       "3  northeast  0.047753   1.717110  Air Terjun Jembatan Lae Pendaroh   \n",
       "4  northeast  0.047099   1.715783        Peak Tree House Sidikalang   \n",
       "\n",
       "              Biaya  21-Dec-19  22-Dec-19  23-Dec-19  24-Dec-19  25-Dec-19  \\\n",
       "0          IDR -            24         26         27         27         27   \n",
       "1          IDR -            24         26         27         27         27   \n",
       "2   IDR 300,000.00          23         25         26         26         26   \n",
       "3    IDR 20,000.00          23         25         26         26         26   \n",
       "4   IDR 762,300.00          23         25         26         26         26   \n",
       "\n",
       "   26-Dec-19  27-Dec-19  28-Dec-19  \n",
       "0         26         27         26  \n",
       "1         26         27         26  \n",
       "2         25         26         26  \n",
       "3         25         26         26  \n",
       "4         25         26         26  "
      ]
     },
     "execution_count": 3,
     "metadata": {},
     "output_type": "execute_result"
    }
   ],
   "source": [
    "Data.head()"
   ]
  },
  {
   "cell_type": "code",
   "execution_count": 4,
   "metadata": {},
   "outputs": [],
   "source": [
    "#Data.loc[153]"
   ]
  },
  {
   "cell_type": "code",
   "execution_count": 21,
   "metadata": {},
   "outputs": [],
   "source": [
    "Data = Data.assign(ID_City=np.arange(len(Data))).reset_index(drop=True)"
   ]
  },
  {
   "cell_type": "code",
   "execution_count": 22,
   "metadata": {
    "scrolled": true
   },
   "outputs": [
    {
     "data": {
      "text/html": [
       "<div>\n",
       "<style scoped>\n",
       "    .dataframe tbody tr th:only-of-type {\n",
       "        vertical-align: middle;\n",
       "    }\n",
       "\n",
       "    .dataframe tbody tr th {\n",
       "        vertical-align: top;\n",
       "    }\n",
       "\n",
       "    .dataframe thead th {\n",
       "        text-align: right;\n",
       "    }\n",
       "</style>\n",
       "<table border=\"1\" class=\"dataframe\">\n",
       "  <thead>\n",
       "    <tr style=\"text-align: right;\">\n",
       "      <th></th>\n",
       "      <th>Geometri</th>\n",
       "      <th>Latitude</th>\n",
       "      <th>Longitude</th>\n",
       "      <th>City</th>\n",
       "      <th>Biaya</th>\n",
       "      <th>21-Dec-19</th>\n",
       "      <th>22-Dec-19</th>\n",
       "      <th>23-Dec-19</th>\n",
       "      <th>24-Dec-19</th>\n",
       "      <th>25-Dec-19</th>\n",
       "      <th>26-Dec-19</th>\n",
       "      <th>27-Dec-19</th>\n",
       "      <th>28-Dec-19</th>\n",
       "      <th>ID_City</th>\n",
       "    </tr>\n",
       "  </thead>\n",
       "  <tbody>\n",
       "    <tr>\n",
       "      <th>0</th>\n",
       "      <td>northeast</td>\n",
       "      <td>0.048731</td>\n",
       "      <td>1.719746</td>\n",
       "      <td>Tao Silalahi hotel</td>\n",
       "      <td>IDR -</td>\n",
       "      <td>24</td>\n",
       "      <td>26</td>\n",
       "      <td>27</td>\n",
       "      <td>27</td>\n",
       "      <td>27</td>\n",
       "      <td>26</td>\n",
       "      <td>27</td>\n",
       "      <td>26</td>\n",
       "      <td>0</td>\n",
       "    </tr>\n",
       "    <tr>\n",
       "      <th>1</th>\n",
       "      <td>northeast</td>\n",
       "      <td>0.046310</td>\n",
       "      <td>1.717087</td>\n",
       "      <td>\"Sicike-cike\" Nature Park</td>\n",
       "      <td>IDR -</td>\n",
       "      <td>24</td>\n",
       "      <td>26</td>\n",
       "      <td>27</td>\n",
       "      <td>27</td>\n",
       "      <td>27</td>\n",
       "      <td>26</td>\n",
       "      <td>27</td>\n",
       "      <td>26</td>\n",
       "      <td>1</td>\n",
       "    </tr>\n",
       "    <tr>\n",
       "      <th>2</th>\n",
       "      <td>northeast</td>\n",
       "      <td>0.047703</td>\n",
       "      <td>1.717085</td>\n",
       "      <td>Taman Wisata Iman Sitinjo, Dairi</td>\n",
       "      <td>IDR 300,000.00</td>\n",
       "      <td>23</td>\n",
       "      <td>25</td>\n",
       "      <td>26</td>\n",
       "      <td>26</td>\n",
       "      <td>26</td>\n",
       "      <td>25</td>\n",
       "      <td>26</td>\n",
       "      <td>26</td>\n",
       "      <td>2</td>\n",
       "    </tr>\n",
       "    <tr>\n",
       "      <th>3</th>\n",
       "      <td>northeast</td>\n",
       "      <td>0.047753</td>\n",
       "      <td>1.717110</td>\n",
       "      <td>Air Terjun Jembatan Lae Pendaroh</td>\n",
       "      <td>IDR 20,000.00</td>\n",
       "      <td>23</td>\n",
       "      <td>25</td>\n",
       "      <td>26</td>\n",
       "      <td>26</td>\n",
       "      <td>26</td>\n",
       "      <td>25</td>\n",
       "      <td>26</td>\n",
       "      <td>26</td>\n",
       "      <td>3</td>\n",
       "    </tr>\n",
       "    <tr>\n",
       "      <th>4</th>\n",
       "      <td>northeast</td>\n",
       "      <td>0.047099</td>\n",
       "      <td>1.715783</td>\n",
       "      <td>Peak Tree House Sidikalang</td>\n",
       "      <td>IDR 762,300.00</td>\n",
       "      <td>23</td>\n",
       "      <td>25</td>\n",
       "      <td>26</td>\n",
       "      <td>26</td>\n",
       "      <td>26</td>\n",
       "      <td>25</td>\n",
       "      <td>26</td>\n",
       "      <td>26</td>\n",
       "      <td>4</td>\n",
       "    </tr>\n",
       "    <tr>\n",
       "      <th>5</th>\n",
       "      <td>northeast</td>\n",
       "      <td>0.049115</td>\n",
       "      <td>1.719665</td>\n",
       "      <td>Tugu Marga Silalahi</td>\n",
       "      <td>IDR 10,000.00</td>\n",
       "      <td>23</td>\n",
       "      <td>25</td>\n",
       "      <td>26</td>\n",
       "      <td>26</td>\n",
       "      <td>26</td>\n",
       "      <td>25</td>\n",
       "      <td>26</td>\n",
       "      <td>26</td>\n",
       "      <td>5</td>\n",
       "    </tr>\n",
       "  </tbody>\n",
       "</table>\n",
       "</div>"
      ],
      "text/plain": [
       "    Geometri  Latitude  Longitude                              City  \\\n",
       "0  northeast  0.048731   1.719746                Tao Silalahi hotel   \n",
       "1  northeast  0.046310   1.717087         \"Sicike-cike\" Nature Park   \n",
       "2  northeast  0.047703   1.717085  Taman Wisata Iman Sitinjo, Dairi   \n",
       "3  northeast  0.047753   1.717110  Air Terjun Jembatan Lae Pendaroh   \n",
       "4  northeast  0.047099   1.715783        Peak Tree House Sidikalang   \n",
       "5  northeast  0.049115   1.719665               Tugu Marga Silalahi   \n",
       "\n",
       "              Biaya  21-Dec-19  22-Dec-19  23-Dec-19  24-Dec-19  25-Dec-19  \\\n",
       "0          IDR -            24         26         27         27         27   \n",
       "1          IDR -            24         26         27         27         27   \n",
       "2   IDR 300,000.00          23         25         26         26         26   \n",
       "3    IDR 20,000.00          23         25         26         26         26   \n",
       "4   IDR 762,300.00          23         25         26         26         26   \n",
       "5    IDR 10,000.00          23         25         26         26         26   \n",
       "\n",
       "   26-Dec-19  27-Dec-19  28-Dec-19  ID_City  \n",
       "0         26         27         26        0  \n",
       "1         26         27         26        1  \n",
       "2         25         26         26        2  \n",
       "3         25         26         26        3  \n",
       "4         25         26         26        4  \n",
       "5         25         26         26        5  "
      ]
     },
     "execution_count": 22,
     "metadata": {},
     "output_type": "execute_result"
    }
   ],
   "source": [
    "Data.head(6)"
   ]
  },
  {
   "cell_type": "code",
   "execution_count": 23,
   "metadata": {
    "scrolled": true
   },
   "outputs": [],
   "source": [
    "a= Data['ID_City'].to_numpy()"
   ]
  },
  {
   "cell_type": "code",
   "execution_count": 25,
   "metadata": {},
   "outputs": [],
   "source": [
    "import random\n",
    "initial_state = []\n",
    "def Initial_State_Awal(a):\n",
    "    for i in range (10):\n",
    "        x = random.choice(a)\n",
    "        if x not in initial_state:\n",
    "            initial_state.append(x)            \n",
    "    return initial_state"
   ]
  },
  {
   "cell_type": "code",
   "execution_count": 26,
   "metadata": {},
   "outputs": [
    {
     "name": "stdout",
     "output_type": "stream",
     "text": [
      "[1, 8, 20, 9, 78, 29, 130, 14, 97, 12]\n"
     ]
    }
   ],
   "source": [
    "awal= Initial_State_Awal(a)\n",
    "print(awal)"
   ]
  },
  {
   "cell_type": "code",
   "execution_count": 28,
   "metadata": {},
   "outputs": [
    {
     "name": "stdout",
     "output_type": "stream",
     "text": [
      "[0, 1, 0, 0, 0, 0, 0, 0, 2, 3, 0, 0, 4, 0, 5, 0, 0, 0, 0, 0, 6, 0, 0, 0, 0, 0, 0, 0, 0, 7, 0, 0, 0, 0, 0, 0, 0, 0, 0, 0, 0, 0, 0, 0, 0, 0, 0, 0, 0, 0, 0, 0, 0, 0, 0, 0, 0, 0, 0, 0, 0, 0, 0, 0, 0, 0, 0, 0, 0, 0, 0, 0, 0, 0, 0, 0, 0, 0, 8, 0, 0, 0, 0, 0, 0, 0, 0, 0, 0, 0, 0, 0, 0, 0, 0, 0, 0, 9, 0, 0, 0, 0, 0, 0, 0, 0, 0, 0, 0, 0, 0, 0, 0, 0, 0, 0, 0, 0, 0, 0, 0, 0, 0, 0, 0, 0, 0, 0, 0, 0, 10, 0, 0, 0, 0, 0, 0, 0, 0, 0, 0, 0, 0, 0, 0, 0, 0, 0, 0, 0, 0, 0, 0, 0, 0, 0]\n"
     ]
    }
   ],
   "source": [
    "arr1= []\n",
    "\n",
    "def Encoding(awal):\n",
    "    result = 0\n",
    "    p = 1\n",
    "    arr1.clear()\n",
    "    for i in range(len(a)):       \n",
    "        for x in range(len(awal)):\n",
    "            if  awal[x] == a[i]:\n",
    "                result =p\n",
    "                p+=1\n",
    "                break\n",
    "            else:\n",
    "                result *= 0\n",
    "        arr1.append(result)\n",
    "\n",
    "    return arr1\n",
    "\n",
    "print(Encoding(awal))"
   ]
  },
  {
   "cell_type": "code",
   "execution_count": 34,
   "metadata": {},
   "outputs": [],
   "source": [
    "import math"
   ]
  },
  {
   "cell_type": "code",
   "execution_count": 35,
   "metadata": {},
   "outputs": [],
   "source": [
    "\n",
    "class fitness_calculation:\n",
    "     \n",
    "    def getting_distance(data,route):\n",
    "        total = 0  \n",
    "        id_city = data['ID_City'].to_numpy()\n",
    "        r = 6373.0\n",
    "        dist_route = []\n",
    "        for i in range(len(id_city)):       \n",
    "            for x in range(len(route)):\n",
    "                if route[x] == id_city[i]:\n",
    "                    dist_route.append((data.iloc[i]['City'] , (data.iloc[i][1], data.iloc[i][2])))\n",
    "                    \n",
    "        for x in range(len(dist_route)-1):\n",
    "            # calculating distance by haversine function\n",
    "            dlat = abs(float(dist_route[x+1][1][0]) - float(dist_route[x][1][0]))\n",
    "            dlon = abs(float(dist_route[x+1][1][1]) - float(dist_route[x][1][1]))\n",
    "            a = math.sin(dlat / 2)**2 + math.cos(dist_route[x+1][1][0]) * math.cos(dist_route[x][1][0]) * math.sin(dlon / 2)**2\n",
    "            c = 2 * math.atan2(math.sqrt(a), math.sqrt(1 - a))\n",
    "            dis = r * c\n",
    "            total += dis\n",
    "        \n",
    "        return round(total)"
   ]
  },
  {
   "cell_type": "code",
   "execution_count": 36,
   "metadata": {},
   "outputs": [
    {
     "data": {
      "text/plain": [
       "404"
      ]
     },
     "execution_count": 36,
     "metadata": {},
     "output_type": "execute_result"
    }
   ],
   "source": [
    "# Call fungsi\n",
    "fitness_calculation.getting_distance(Data,awal)"
   ]
  },
  {
   "cell_type": "code",
   "execution_count": null,
   "metadata": {},
   "outputs": [],
   "source": []
  },
  {
   "cell_type": "code",
   "execution_count": null,
   "metadata": {},
   "outputs": [],
   "source": []
  },
  {
   "cell_type": "code",
   "execution_count": null,
   "metadata": {},
   "outputs": [],
   "source": []
  },
  {
   "cell_type": "code",
   "execution_count": null,
   "metadata": {},
   "outputs": [],
   "source": []
  },
  {
   "cell_type": "code",
   "execution_count": null,
   "metadata": {},
   "outputs": [],
   "source": []
  },
  {
   "cell_type": "code",
   "execution_count": null,
   "metadata": {},
   "outputs": [],
   "source": []
  },
  {
   "cell_type": "code",
   "execution_count": null,
   "metadata": {},
   "outputs": [],
   "source": []
  },
  {
   "cell_type": "code",
   "execution_count": null,
   "metadata": {},
   "outputs": [],
   "source": []
  },
  {
   "cell_type": "code",
   "execution_count": null,
   "metadata": {},
   "outputs": [],
   "source": []
  }
 ],
 "metadata": {
  "kernelspec": {
   "display_name": "Python 3",
   "language": "python",
   "name": "python3"
  },
  "language_info": {
   "codemirror_mode": {
    "name": "ipython",
    "version": 3
   },
   "file_extension": ".py",
   "mimetype": "text/x-python",
   "name": "python",
   "nbconvert_exporter": "python",
   "pygments_lexer": "ipython3",
   "version": "3.7.3"
  }
 },
 "nbformat": 4,
 "nbformat_minor": 2
}
