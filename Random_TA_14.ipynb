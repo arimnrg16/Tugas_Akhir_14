{
 "cells": [
  {
   "cell_type": "markdown",
   "metadata": {},
   "source": [
    "##### After Preprocessing"
   ]
  },
  {
   "cell_type": "code",
   "execution_count": 23,
   "metadata": {},
   "outputs": [],
   "source": [
    "import pandas as pd\n",
    "import numpy as np\n",
    "import random\n",
    "\n",
    "from sklearn.neighbors import DistanceMetric\n",
    "from math import radians"
   ]
  },
  {
   "cell_type": "code",
   "execution_count": 24,
   "metadata": {},
   "outputs": [],
   "source": [
    "Data = pd.read_csv('Final_results.csv')"
   ]
  },
  {
   "cell_type": "code",
   "execution_count": 25,
   "metadata": {},
   "outputs": [
    {
     "data": {
      "text/html": [
       "<div>\n",
       "<style scoped>\n",
       "    .dataframe tbody tr th:only-of-type {\n",
       "        vertical-align: middle;\n",
       "    }\n",
       "\n",
       "    .dataframe tbody tr th {\n",
       "        vertical-align: top;\n",
       "    }\n",
       "\n",
       "    .dataframe thead th {\n",
       "        text-align: right;\n",
       "    }\n",
       "</style>\n",
       "<table border=\"1\" class=\"dataframe\">\n",
       "  <thead>\n",
       "    <tr style=\"text-align: right;\">\n",
       "      <th></th>\n",
       "      <th>Geometri</th>\n",
       "      <th>Latitude</th>\n",
       "      <th>Longitude</th>\n",
       "      <th>City</th>\n",
       "      <th>Biaya</th>\n",
       "      <th>21-Dec-19</th>\n",
       "      <th>22-Dec-19</th>\n",
       "      <th>23-Dec-19</th>\n",
       "      <th>24-Dec-19</th>\n",
       "      <th>25-Dec-19</th>\n",
       "      <th>26-Dec-19</th>\n",
       "      <th>27-Dec-19</th>\n",
       "      <th>28-Dec-19</th>\n",
       "    </tr>\n",
       "  </thead>\n",
       "  <tbody>\n",
       "    <tr>\n",
       "      <th>0</th>\n",
       "      <td>northeast</td>\n",
       "      <td>0.048731</td>\n",
       "      <td>1.719746</td>\n",
       "      <td>Tao Silalahi hotel</td>\n",
       "      <td>IDR -</td>\n",
       "      <td>24</td>\n",
       "      <td>26</td>\n",
       "      <td>27</td>\n",
       "      <td>27</td>\n",
       "      <td>27</td>\n",
       "      <td>26</td>\n",
       "      <td>27</td>\n",
       "      <td>26</td>\n",
       "    </tr>\n",
       "    <tr>\n",
       "      <th>1</th>\n",
       "      <td>northeast</td>\n",
       "      <td>0.046310</td>\n",
       "      <td>1.717087</td>\n",
       "      <td>\"Sicike-cike\" Nature Park</td>\n",
       "      <td>IDR -</td>\n",
       "      <td>24</td>\n",
       "      <td>26</td>\n",
       "      <td>27</td>\n",
       "      <td>27</td>\n",
       "      <td>27</td>\n",
       "      <td>26</td>\n",
       "      <td>27</td>\n",
       "      <td>26</td>\n",
       "    </tr>\n",
       "    <tr>\n",
       "      <th>2</th>\n",
       "      <td>northeast</td>\n",
       "      <td>0.047703</td>\n",
       "      <td>1.717085</td>\n",
       "      <td>Taman Wisata Iman Sitinjo, Dairi</td>\n",
       "      <td>IDR 300,000.00</td>\n",
       "      <td>23</td>\n",
       "      <td>25</td>\n",
       "      <td>26</td>\n",
       "      <td>26</td>\n",
       "      <td>26</td>\n",
       "      <td>25</td>\n",
       "      <td>26</td>\n",
       "      <td>26</td>\n",
       "    </tr>\n",
       "    <tr>\n",
       "      <th>3</th>\n",
       "      <td>northeast</td>\n",
       "      <td>0.047753</td>\n",
       "      <td>1.717110</td>\n",
       "      <td>Air Terjun Jembatan Lae Pendaroh</td>\n",
       "      <td>IDR 20,000.00</td>\n",
       "      <td>23</td>\n",
       "      <td>25</td>\n",
       "      <td>26</td>\n",
       "      <td>26</td>\n",
       "      <td>26</td>\n",
       "      <td>25</td>\n",
       "      <td>26</td>\n",
       "      <td>26</td>\n",
       "    </tr>\n",
       "    <tr>\n",
       "      <th>4</th>\n",
       "      <td>northeast</td>\n",
       "      <td>0.047099</td>\n",
       "      <td>1.715783</td>\n",
       "      <td>Peak Tree House Sidikalang</td>\n",
       "      <td>IDR 762,300.00</td>\n",
       "      <td>23</td>\n",
       "      <td>25</td>\n",
       "      <td>26</td>\n",
       "      <td>26</td>\n",
       "      <td>26</td>\n",
       "      <td>25</td>\n",
       "      <td>26</td>\n",
       "      <td>26</td>\n",
       "    </tr>\n",
       "  </tbody>\n",
       "</table>\n",
       "</div>"
      ],
      "text/plain": [
       "    Geometri  Latitude  Longitude                              City  \\\n",
       "0  northeast  0.048731   1.719746                Tao Silalahi hotel   \n",
       "1  northeast  0.046310   1.717087         \"Sicike-cike\" Nature Park   \n",
       "2  northeast  0.047703   1.717085  Taman Wisata Iman Sitinjo, Dairi   \n",
       "3  northeast  0.047753   1.717110  Air Terjun Jembatan Lae Pendaroh   \n",
       "4  northeast  0.047099   1.715783        Peak Tree House Sidikalang   \n",
       "\n",
       "              Biaya  21-Dec-19  22-Dec-19  23-Dec-19  24-Dec-19  25-Dec-19  \\\n",
       "0             IDR -         24         26         27         27         27   \n",
       "1             IDR -         24         26         27         27         27   \n",
       "2   IDR 300,000.00          23         25         26         26         26   \n",
       "3    IDR 20,000.00          23         25         26         26         26   \n",
       "4   IDR 762,300.00          23         25         26         26         26   \n",
       "\n",
       "   26-Dec-19  27-Dec-19  28-Dec-19  \n",
       "0         26         27         26  \n",
       "1         26         27         26  \n",
       "2         25         26         26  \n",
       "3         25         26         26  \n",
       "4         25         26         26  "
      ]
     },
     "execution_count": 25,
     "metadata": {},
     "output_type": "execute_result"
    }
   ],
   "source": [
    "Data.head()"
   ]
  },
  {
   "cell_type": "code",
   "execution_count": 26,
   "metadata": {},
   "outputs": [],
   "source": [
    "#Data.loc[153]"
   ]
  },
  {
   "cell_type": "code",
   "execution_count": 27,
   "metadata": {},
   "outputs": [],
   "source": [
    "Data = Data.assign(ID_City=np.arange(len(Data))).reset_index(drop=True)"
   ]
  },
  {
   "cell_type": "code",
   "execution_count": 28,
   "metadata": {
    "scrolled": true
   },
   "outputs": [
    {
     "data": {
      "text/html": [
       "<div>\n",
       "<style scoped>\n",
       "    .dataframe tbody tr th:only-of-type {\n",
       "        vertical-align: middle;\n",
       "    }\n",
       "\n",
       "    .dataframe tbody tr th {\n",
       "        vertical-align: top;\n",
       "    }\n",
       "\n",
       "    .dataframe thead th {\n",
       "        text-align: right;\n",
       "    }\n",
       "</style>\n",
       "<table border=\"1\" class=\"dataframe\">\n",
       "  <thead>\n",
       "    <tr style=\"text-align: right;\">\n",
       "      <th></th>\n",
       "      <th>Geometri</th>\n",
       "      <th>Latitude</th>\n",
       "      <th>Longitude</th>\n",
       "      <th>City</th>\n",
       "      <th>Biaya</th>\n",
       "      <th>21-Dec-19</th>\n",
       "      <th>22-Dec-19</th>\n",
       "      <th>23-Dec-19</th>\n",
       "      <th>24-Dec-19</th>\n",
       "      <th>25-Dec-19</th>\n",
       "      <th>26-Dec-19</th>\n",
       "      <th>27-Dec-19</th>\n",
       "      <th>28-Dec-19</th>\n",
       "      <th>ID_City</th>\n",
       "    </tr>\n",
       "  </thead>\n",
       "  <tbody>\n",
       "    <tr>\n",
       "      <th>0</th>\n",
       "      <td>northeast</td>\n",
       "      <td>0.048731</td>\n",
       "      <td>1.719746</td>\n",
       "      <td>Tao Silalahi hotel</td>\n",
       "      <td>IDR -</td>\n",
       "      <td>24</td>\n",
       "      <td>26</td>\n",
       "      <td>27</td>\n",
       "      <td>27</td>\n",
       "      <td>27</td>\n",
       "      <td>26</td>\n",
       "      <td>27</td>\n",
       "      <td>26</td>\n",
       "      <td>0</td>\n",
       "    </tr>\n",
       "    <tr>\n",
       "      <th>1</th>\n",
       "      <td>northeast</td>\n",
       "      <td>0.046310</td>\n",
       "      <td>1.717087</td>\n",
       "      <td>\"Sicike-cike\" Nature Park</td>\n",
       "      <td>IDR -</td>\n",
       "      <td>24</td>\n",
       "      <td>26</td>\n",
       "      <td>27</td>\n",
       "      <td>27</td>\n",
       "      <td>27</td>\n",
       "      <td>26</td>\n",
       "      <td>27</td>\n",
       "      <td>26</td>\n",
       "      <td>1</td>\n",
       "    </tr>\n",
       "    <tr>\n",
       "      <th>2</th>\n",
       "      <td>northeast</td>\n",
       "      <td>0.047703</td>\n",
       "      <td>1.717085</td>\n",
       "      <td>Taman Wisata Iman Sitinjo, Dairi</td>\n",
       "      <td>IDR 300,000.00</td>\n",
       "      <td>23</td>\n",
       "      <td>25</td>\n",
       "      <td>26</td>\n",
       "      <td>26</td>\n",
       "      <td>26</td>\n",
       "      <td>25</td>\n",
       "      <td>26</td>\n",
       "      <td>26</td>\n",
       "      <td>2</td>\n",
       "    </tr>\n",
       "    <tr>\n",
       "      <th>3</th>\n",
       "      <td>northeast</td>\n",
       "      <td>0.047753</td>\n",
       "      <td>1.717110</td>\n",
       "      <td>Air Terjun Jembatan Lae Pendaroh</td>\n",
       "      <td>IDR 20,000.00</td>\n",
       "      <td>23</td>\n",
       "      <td>25</td>\n",
       "      <td>26</td>\n",
       "      <td>26</td>\n",
       "      <td>26</td>\n",
       "      <td>25</td>\n",
       "      <td>26</td>\n",
       "      <td>26</td>\n",
       "      <td>3</td>\n",
       "    </tr>\n",
       "    <tr>\n",
       "      <th>4</th>\n",
       "      <td>northeast</td>\n",
       "      <td>0.047099</td>\n",
       "      <td>1.715783</td>\n",
       "      <td>Peak Tree House Sidikalang</td>\n",
       "      <td>IDR 762,300.00</td>\n",
       "      <td>23</td>\n",
       "      <td>25</td>\n",
       "      <td>26</td>\n",
       "      <td>26</td>\n",
       "      <td>26</td>\n",
       "      <td>25</td>\n",
       "      <td>26</td>\n",
       "      <td>26</td>\n",
       "      <td>4</td>\n",
       "    </tr>\n",
       "  </tbody>\n",
       "</table>\n",
       "</div>"
      ],
      "text/plain": [
       "    Geometri  Latitude  Longitude                              City  \\\n",
       "0  northeast  0.048731   1.719746                Tao Silalahi hotel   \n",
       "1  northeast  0.046310   1.717087         \"Sicike-cike\" Nature Park   \n",
       "2  northeast  0.047703   1.717085  Taman Wisata Iman Sitinjo, Dairi   \n",
       "3  northeast  0.047753   1.717110  Air Terjun Jembatan Lae Pendaroh   \n",
       "4  northeast  0.047099   1.715783        Peak Tree House Sidikalang   \n",
       "\n",
       "              Biaya  21-Dec-19  22-Dec-19  23-Dec-19  24-Dec-19  25-Dec-19  \\\n",
       "0             IDR -         24         26         27         27         27   \n",
       "1             IDR -         24         26         27         27         27   \n",
       "2   IDR 300,000.00          23         25         26         26         26   \n",
       "3    IDR 20,000.00          23         25         26         26         26   \n",
       "4   IDR 762,300.00          23         25         26         26         26   \n",
       "\n",
       "   26-Dec-19  27-Dec-19  28-Dec-19  ID_City  \n",
       "0         26         27         26        0  \n",
       "1         26         27         26        1  \n",
       "2         25         26         26        2  \n",
       "3         25         26         26        3  \n",
       "4         25         26         26        4  "
      ]
     },
     "execution_count": 28,
     "metadata": {},
     "output_type": "execute_result"
    }
   ],
   "source": [
    "Data.head()"
   ]
  },
  {
   "cell_type": "code",
   "execution_count": 29,
   "metadata": {
    "scrolled": true
   },
   "outputs": [
    {
     "data": {
      "text/plain": [
       "0    0\n",
       "1    1\n",
       "2    2\n",
       "3    3\n",
       "4    4\n",
       "Name: ID_City, dtype: int32"
      ]
     },
     "execution_count": 29,
     "metadata": {},
     "output_type": "execute_result"
    }
   ],
   "source": [
    "Data['ID_City'].head()"
   ]
  },
  {
   "cell_type": "code",
   "execution_count": 30,
   "metadata": {},
   "outputs": [
    {
     "name": "stdout",
     "output_type": "stream",
     "text": [
      "5\n",
      "4\n",
      "6\n",
      "6\n",
      "1\n",
      "5\n",
      "6\n",
      "10\n",
      "8\n",
      "3\n"
     ]
    },
    {
     "name": "stderr",
     "output_type": "stream",
     "text": [
      "C:\\Anaconda\\lib\\site-packages\\ipykernel_launcher.py:7: DeprecationWarning: This function is deprecated. Please call randint(1, 10 + 1) instead\n",
      "  import sys\n"
     ]
    }
   ],
   "source": [
    "x = Data.ID_City\n",
    "bebas = [x]\n",
    "\n",
    "for x in range (10): \n",
    "    bebas[x] = [x for x  in range(10)]\n",
    "    bebas.append(random.shuffle(bebas[x]))\n",
    "    print(np.random.random_integers(1, 10))"
   ]
  },
  {
   "cell_type": "code",
   "execution_count": 31,
   "metadata": {},
   "outputs": [
    {
     "name": "stdout",
     "output_type": "stream",
     "text": [
      "[133  55 145  93  27  50  14  39 117  78 140  65 109]\n",
      "[ 13  30  97  14 136  71 101]\n",
      "[57]\n",
      "[ 76  79 109 155   3  13  84 100  71 147  60 115 122  95]\n",
      "[16 57]\n",
      "[  1  28  43 106 106 134  78  92  53  19 101  92]\n",
      "[ 59  76  72  97  64   7  94 106  83  17  39]\n",
      "[ 11  88  52 131 142 108  40  16 142  10 119 131]\n",
      "[138  94  75  51  29  12  16  24  78 100  31]\n",
      "[ 31 145 148  95 116 132   1  23  80  44  48]\n"
     ]
    },
    {
     "name": "stderr",
     "output_type": "stream",
     "text": [
      "C:\\Anaconda\\lib\\site-packages\\ipykernel_launcher.py:9: DeprecationWarning: This function is deprecated. Please call randint(1, 156 + 1) instead\n",
      "  if __name__ == '__main__':\n"
     ]
    }
   ],
   "source": [
    "import sys\n",
    "\n",
    "x = Data.ID_City\n",
    "bebas = [x]\n",
    "\n",
    "for x in range (10): \n",
    "    bebas[x] = [x for x  in range(10)]\n",
    "    bebas.append(random.shuffle(bebas[x]))\n",
    "    a = print(np.random.random_integers(1, len(Data['ID_City']), random.randrange(1,16)))"
   ]
  },
  {
   "cell_type": "code",
   "execution_count": 32,
   "metadata": {},
   "outputs": [
    {
     "name": "stderr",
     "output_type": "stream",
     "text": [
      "C:\\Anaconda\\lib\\site-packages\\ipykernel_launcher.py:10: DeprecationWarning: This function is deprecated. Please call randint(1, 156 + 1) instead\n",
      "  # Remove the CWD from sys.path while we load stuff.\n"
     ]
    }
   ],
   "source": [
    "x = Data.ID_City\n",
    "arr = []\n",
    "bebas = [x]\n",
    "\n",
    "\n",
    "bebek = []\n",
    "for x in range (10): \n",
    "    bebas[x] = [x for x  in range(10)]\n",
    "    bebas.append(random.shuffle(bebas[x]))\n",
    "    bebek.append(np.random.random_integers(1, len(Data['ID_City']), random.randrange(1,10)))"
   ]
  },
  {
   "cell_type": "code",
   "execution_count": 33,
   "metadata": {},
   "outputs": [
    {
     "data": {
      "text/plain": [
       "[array([ 32, 130,  50]),\n",
       " array([142,  93,  21,  83,  41]),\n",
       " array([ 65,  31, 136,  54,  22,  73,  56,  63]),\n",
       " array([145,   2,  47,  69, 111, 120]),\n",
       " array([151,  97, 104, 137, 122, 148,  50, 123]),\n",
       " array([69]),\n",
       " array([149]),\n",
       " array([136,  88, 128,  19,  46,  30,   2]),\n",
       " array([141, 149,  32, 155, 114,  63]),\n",
       " array([ 5, 20, 74])]"
      ]
     },
     "execution_count": 33,
     "metadata": {},
     "output_type": "execute_result"
    }
   ],
   "source": [
    "bebek"
   ]
  },
  {
   "cell_type": "code",
   "execution_count": 34,
   "metadata": {},
   "outputs": [
    {
     "name": "stdout",
     "output_type": "stream",
     "text": [
      "93    0.046781\n",
      "Name: Latitude, dtype: float64\n",
      "93    1.725044\n",
      "Name: Longitude, dtype: float64\n"
     ]
    }
   ],
   "source": [
    "Data1 = Data['Latitude'].loc[Data['ID_City'] == bebek[1][1]] \n",
    "Data2 = Data['Longitude'].loc[Data['ID_City'] == bebek[1][1]]\n",
    "  \n",
    "print(Data1)\n",
    "print(Data2)"
   ]
  },
  {
   "cell_type": "code",
   "execution_count": 35,
   "metadata": {},
   "outputs": [
    {
     "data": {
      "text/html": [
       "<div>\n",
       "<style scoped>\n",
       "    .dataframe tbody tr th:only-of-type {\n",
       "        vertical-align: middle;\n",
       "    }\n",
       "\n",
       "    .dataframe tbody tr th {\n",
       "        vertical-align: top;\n",
       "    }\n",
       "\n",
       "    .dataframe thead th {\n",
       "        text-align: right;\n",
       "    }\n",
       "</style>\n",
       "<table border=\"1\" class=\"dataframe\">\n",
       "  <thead>\n",
       "    <tr style=\"text-align: right;\">\n",
       "      <th></th>\n",
       "      <th>Geometri</th>\n",
       "      <th>Latitude</th>\n",
       "      <th>Longitude</th>\n",
       "      <th>City</th>\n",
       "      <th>Biaya</th>\n",
       "      <th>21-Dec-19</th>\n",
       "      <th>22-Dec-19</th>\n",
       "      <th>23-Dec-19</th>\n",
       "      <th>24-Dec-19</th>\n",
       "      <th>25-Dec-19</th>\n",
       "      <th>26-Dec-19</th>\n",
       "      <th>27-Dec-19</th>\n",
       "      <th>28-Dec-19</th>\n",
       "      <th>ID_City</th>\n",
       "    </tr>\n",
       "  </thead>\n",
       "  <tbody>\n",
       "    <tr>\n",
       "      <th>0</th>\n",
       "      <td>northeast</td>\n",
       "      <td>0.048731</td>\n",
       "      <td>1.719746</td>\n",
       "      <td>Tao Silalahi hotel</td>\n",
       "      <td>IDR -</td>\n",
       "      <td>24</td>\n",
       "      <td>26</td>\n",
       "      <td>27</td>\n",
       "      <td>27</td>\n",
       "      <td>27</td>\n",
       "      <td>26</td>\n",
       "      <td>27</td>\n",
       "      <td>26</td>\n",
       "      <td>0</td>\n",
       "    </tr>\n",
       "    <tr>\n",
       "      <th>1</th>\n",
       "      <td>northeast</td>\n",
       "      <td>0.046310</td>\n",
       "      <td>1.717087</td>\n",
       "      <td>\"Sicike-cike\" Nature Park</td>\n",
       "      <td>IDR -</td>\n",
       "      <td>24</td>\n",
       "      <td>26</td>\n",
       "      <td>27</td>\n",
       "      <td>27</td>\n",
       "      <td>27</td>\n",
       "      <td>26</td>\n",
       "      <td>27</td>\n",
       "      <td>26</td>\n",
       "      <td>1</td>\n",
       "    </tr>\n",
       "    <tr>\n",
       "      <th>2</th>\n",
       "      <td>northeast</td>\n",
       "      <td>0.047703</td>\n",
       "      <td>1.717085</td>\n",
       "      <td>Taman Wisata Iman Sitinjo, Dairi</td>\n",
       "      <td>IDR 300,000.00</td>\n",
       "      <td>23</td>\n",
       "      <td>25</td>\n",
       "      <td>26</td>\n",
       "      <td>26</td>\n",
       "      <td>26</td>\n",
       "      <td>25</td>\n",
       "      <td>26</td>\n",
       "      <td>26</td>\n",
       "      <td>2</td>\n",
       "    </tr>\n",
       "    <tr>\n",
       "      <th>3</th>\n",
       "      <td>northeast</td>\n",
       "      <td>0.047753</td>\n",
       "      <td>1.717110</td>\n",
       "      <td>Air Terjun Jembatan Lae Pendaroh</td>\n",
       "      <td>IDR 20,000.00</td>\n",
       "      <td>23</td>\n",
       "      <td>25</td>\n",
       "      <td>26</td>\n",
       "      <td>26</td>\n",
       "      <td>26</td>\n",
       "      <td>25</td>\n",
       "      <td>26</td>\n",
       "      <td>26</td>\n",
       "      <td>3</td>\n",
       "    </tr>\n",
       "    <tr>\n",
       "      <th>4</th>\n",
       "      <td>northeast</td>\n",
       "      <td>0.047099</td>\n",
       "      <td>1.715783</td>\n",
       "      <td>Peak Tree House Sidikalang</td>\n",
       "      <td>IDR 762,300.00</td>\n",
       "      <td>23</td>\n",
       "      <td>25</td>\n",
       "      <td>26</td>\n",
       "      <td>26</td>\n",
       "      <td>26</td>\n",
       "      <td>25</td>\n",
       "      <td>26</td>\n",
       "      <td>26</td>\n",
       "      <td>4</td>\n",
       "    </tr>\n",
       "  </tbody>\n",
       "</table>\n",
       "</div>"
      ],
      "text/plain": [
       "    Geometri  Latitude  Longitude                              City  \\\n",
       "0  northeast  0.048731   1.719746                Tao Silalahi hotel   \n",
       "1  northeast  0.046310   1.717087         \"Sicike-cike\" Nature Park   \n",
       "2  northeast  0.047703   1.717085  Taman Wisata Iman Sitinjo, Dairi   \n",
       "3  northeast  0.047753   1.717110  Air Terjun Jembatan Lae Pendaroh   \n",
       "4  northeast  0.047099   1.715783        Peak Tree House Sidikalang   \n",
       "\n",
       "              Biaya  21-Dec-19  22-Dec-19  23-Dec-19  24-Dec-19  25-Dec-19  \\\n",
       "0             IDR -         24         26         27         27         27   \n",
       "1             IDR -         24         26         27         27         27   \n",
       "2   IDR 300,000.00          23         25         26         26         26   \n",
       "3    IDR 20,000.00          23         25         26         26         26   \n",
       "4   IDR 762,300.00          23         25         26         26         26   \n",
       "\n",
       "   26-Dec-19  27-Dec-19  28-Dec-19  ID_City  \n",
       "0         26         27         26        0  \n",
       "1         26         27         26        1  \n",
       "2         25         26         26        2  \n",
       "3         25         26         26        3  \n",
       "4         25         26         26        4  "
      ]
     },
     "execution_count": 35,
     "metadata": {},
     "output_type": "execute_result"
    }
   ],
   "source": [
    "Data.head()"
   ]
  },
  {
   "cell_type": "code",
   "execution_count": 36,
   "metadata": {},
   "outputs": [
    {
     "data": {
      "text/plain": [
       "Geometri          northeast\n",
       "Latitude          0.0407576\n",
       "Longitude           1.72644\n",
       "City            Muara Nauli\n",
       "Biaya         IDR 5,000.00 \n",
       "21-Dec-19                29\n",
       "22-Dec-19                28\n",
       "23-Dec-19                29\n",
       "24-Dec-19                30\n",
       "25-Dec-19                29\n",
       "26-Dec-19                29\n",
       "27-Dec-19                30\n",
       "28-Dec-19                31\n",
       "ID_City                 121\n",
       "Name: 121, dtype: object"
      ]
     },
     "execution_count": 36,
     "metadata": {},
     "output_type": "execute_result"
    }
   ],
   "source": [
    "Data.loc[121]"
   ]
  },
  {
   "cell_type": "code",
   "execution_count": 40,
   "metadata": {},
   "outputs": [
    {
     "data": {
      "text/html": [
       "<div>\n",
       "<style scoped>\n",
       "    .dataframe tbody tr th:only-of-type {\n",
       "        vertical-align: middle;\n",
       "    }\n",
       "\n",
       "    .dataframe tbody tr th {\n",
       "        vertical-align: top;\n",
       "    }\n",
       "\n",
       "    .dataframe thead th {\n",
       "        text-align: right;\n",
       "    }\n",
       "</style>\n",
       "<table border=\"1\" class=\"dataframe\">\n",
       "  <thead>\n",
       "    <tr style=\"text-align: right;\">\n",
       "      <th></th>\n",
       "      <th>Geometri</th>\n",
       "      <th>Latitude</th>\n",
       "      <th>Longitude</th>\n",
       "      <th>City</th>\n",
       "      <th>Biaya</th>\n",
       "      <th>21-Dec-19</th>\n",
       "      <th>22-Dec-19</th>\n",
       "      <th>23-Dec-19</th>\n",
       "      <th>24-Dec-19</th>\n",
       "      <th>25-Dec-19</th>\n",
       "      <th>26-Dec-19</th>\n",
       "      <th>27-Dec-19</th>\n",
       "      <th>28-Dec-19</th>\n",
       "      <th>ID_City</th>\n",
       "    </tr>\n",
       "  </thead>\n",
       "  <tbody>\n",
       "    <tr>\n",
       "      <th>7</th>\n",
       "      <td>northeast</td>\n",
       "      <td>0.047901</td>\n",
       "      <td>1.715924</td>\n",
       "      <td>Taman Rekreasi</td>\n",
       "      <td>IDR 5,000.00</td>\n",
       "      <td>23</td>\n",
       "      <td>25</td>\n",
       "      <td>26</td>\n",
       "      <td>26</td>\n",
       "      <td>26</td>\n",
       "      <td>25</td>\n",
       "      <td>26</td>\n",
       "      <td>26</td>\n",
       "      <td>7</td>\n",
       "    </tr>\n",
       "    <tr>\n",
       "      <th>73</th>\n",
       "      <td>northeast</td>\n",
       "      <td>0.046781</td>\n",
       "      <td>1.725044</td>\n",
       "      <td>Batu Kursi Raja Siallagan ( Stone Chair of Kin...</td>\n",
       "      <td>IDR 5,000.00</td>\n",
       "      <td>25</td>\n",
       "      <td>27</td>\n",
       "      <td>28</td>\n",
       "      <td>28</td>\n",
       "      <td>28</td>\n",
       "      <td>27</td>\n",
       "      <td>28</td>\n",
       "      <td>28</td>\n",
       "      <td>73</td>\n",
       "    </tr>\n",
       "    <tr>\n",
       "      <th>125</th>\n",
       "      <td>northeast</td>\n",
       "      <td>0.035450</td>\n",
       "      <td>1.727545</td>\n",
       "      <td>Thermal Baths U.S.K Hineni</td>\n",
       "      <td>IDR 8,000.00</td>\n",
       "      <td>23</td>\n",
       "      <td>23</td>\n",
       "      <td>24</td>\n",
       "      <td>25</td>\n",
       "      <td>25</td>\n",
       "      <td>25</td>\n",
       "      <td>24</td>\n",
       "      <td>24</td>\n",
       "      <td>125</td>\n",
       "    </tr>\n",
       "    <tr>\n",
       "      <th>107</th>\n",
       "      <td>northeast</td>\n",
       "      <td>0.053758</td>\n",
       "      <td>1.729282</td>\n",
       "      <td>Bah Salak Waterfall</td>\n",
       "      <td>IDR 3,500.00</td>\n",
       "      <td>28</td>\n",
       "      <td>29</td>\n",
       "      <td>31</td>\n",
       "      <td>31</td>\n",
       "      <td>31</td>\n",
       "      <td>29</td>\n",
       "      <td>30</td>\n",
       "      <td>30</td>\n",
       "      <td>107</td>\n",
       "    </tr>\n",
       "    <tr>\n",
       "      <th>127</th>\n",
       "      <td>northeast</td>\n",
       "      <td>0.036266</td>\n",
       "      <td>1.726945</td>\n",
       "      <td>Air Panas Sipoholon</td>\n",
       "      <td>IDR 5,000.00</td>\n",
       "      <td>22</td>\n",
       "      <td>23</td>\n",
       "      <td>24</td>\n",
       "      <td>24</td>\n",
       "      <td>23</td>\n",
       "      <td>23</td>\n",
       "      <td>23</td>\n",
       "      <td>23</td>\n",
       "      <td>127</td>\n",
       "    </tr>\n",
       "    <tr>\n",
       "      <th>74</th>\n",
       "      <td>northeast</td>\n",
       "      <td>0.045705</td>\n",
       "      <td>1.725666</td>\n",
       "      <td>Parhallow viewpoint and coffee shop</td>\n",
       "      <td>IDR 350,000.00</td>\n",
       "      <td>25</td>\n",
       "      <td>27</td>\n",
       "      <td>28</td>\n",
       "      <td>28</td>\n",
       "      <td>28</td>\n",
       "      <td>27</td>\n",
       "      <td>28</td>\n",
       "      <td>28</td>\n",
       "      <td>74</td>\n",
       "    </tr>\n",
       "    <tr>\n",
       "      <th>29</th>\n",
       "      <td>northeast</td>\n",
       "      <td>0.038621</td>\n",
       "      <td>1.719917</td>\n",
       "      <td>objek wisata baronjong aek sirahar</td>\n",
       "      <td>IDR 20,000.00</td>\n",
       "      <td>23</td>\n",
       "      <td>24</td>\n",
       "      <td>24</td>\n",
       "      <td>24</td>\n",
       "      <td>24</td>\n",
       "      <td>24</td>\n",
       "      <td>25</td>\n",
       "      <td>26</td>\n",
       "      <td>29</td>\n",
       "    </tr>\n",
       "    <tr>\n",
       "      <th>111</th>\n",
       "      <td>northeast</td>\n",
       "      <td>0.047464</td>\n",
       "      <td>1.730332</td>\n",
       "      <td>Niagara sipitu Tikka</td>\n",
       "      <td>IDR 5,000.00</td>\n",
       "      <td>25</td>\n",
       "      <td>27</td>\n",
       "      <td>28</td>\n",
       "      <td>28</td>\n",
       "      <td>28</td>\n",
       "      <td>27</td>\n",
       "      <td>28</td>\n",
       "      <td>28</td>\n",
       "      <td>111</td>\n",
       "    </tr>\n",
       "    <tr>\n",
       "      <th>1</th>\n",
       "      <td>northeast</td>\n",
       "      <td>0.046310</td>\n",
       "      <td>1.717087</td>\n",
       "      <td>\"Sicike-cike\" Nature Park</td>\n",
       "      <td>IDR -</td>\n",
       "      <td>24</td>\n",
       "      <td>26</td>\n",
       "      <td>27</td>\n",
       "      <td>27</td>\n",
       "      <td>27</td>\n",
       "      <td>26</td>\n",
       "      <td>27</td>\n",
       "      <td>26</td>\n",
       "      <td>1</td>\n",
       "    </tr>\n",
       "    <tr>\n",
       "      <th>47</th>\n",
       "      <td>northeast</td>\n",
       "      <td>0.056350</td>\n",
       "      <td>1.719849</td>\n",
       "      <td>TWA Lau Debuk-debuk</td>\n",
       "      <td>IDR -</td>\n",
       "      <td>20</td>\n",
       "      <td>21</td>\n",
       "      <td>23</td>\n",
       "      <td>22</td>\n",
       "      <td>23</td>\n",
       "      <td>22</td>\n",
       "      <td>23</td>\n",
       "      <td>23</td>\n",
       "      <td>47</td>\n",
       "    </tr>\n",
       "  </tbody>\n",
       "</table>\n",
       "</div>"
      ],
      "text/plain": [
       "      Geometri  Latitude  Longitude  \\\n",
       "7    northeast  0.047901   1.715924   \n",
       "73   northeast  0.046781   1.725044   \n",
       "125  northeast  0.035450   1.727545   \n",
       "107  northeast  0.053758   1.729282   \n",
       "127  northeast  0.036266   1.726945   \n",
       "74   northeast  0.045705   1.725666   \n",
       "29   northeast  0.038621   1.719917   \n",
       "111  northeast  0.047464   1.730332   \n",
       "1    northeast  0.046310   1.717087   \n",
       "47   northeast  0.056350   1.719849   \n",
       "\n",
       "                                                  City             Biaya  \\\n",
       "7                                       Taman Rekreasi     IDR 5,000.00    \n",
       "73   Batu Kursi Raja Siallagan ( Stone Chair of Kin...     IDR 5,000.00    \n",
       "125                         Thermal Baths U.S.K Hineni     IDR 8,000.00    \n",
       "107                                Bah Salak Waterfall     IDR 3,500.00    \n",
       "127                                Air Panas Sipoholon     IDR 5,000.00    \n",
       "74                 Parhallow viewpoint and coffee shop   IDR 350,000.00    \n",
       "29                  objek wisata baronjong aek sirahar    IDR 20,000.00    \n",
       "111                               Niagara sipitu Tikka     IDR 5,000.00    \n",
       "1                            \"Sicike-cike\" Nature Park             IDR -   \n",
       "47                                 TWA Lau Debuk-debuk             IDR -   \n",
       "\n",
       "     21-Dec-19  22-Dec-19  23-Dec-19  24-Dec-19  25-Dec-19  26-Dec-19  \\\n",
       "7           23         25         26         26         26         25   \n",
       "73          25         27         28         28         28         27   \n",
       "125         23         23         24         25         25         25   \n",
       "107         28         29         31         31         31         29   \n",
       "127         22         23         24         24         23         23   \n",
       "74          25         27         28         28         28         27   \n",
       "29          23         24         24         24         24         24   \n",
       "111         25         27         28         28         28         27   \n",
       "1           24         26         27         27         27         26   \n",
       "47          20         21         23         22         23         22   \n",
       "\n",
       "     27-Dec-19  28-Dec-19  ID_City  \n",
       "7           26         26        7  \n",
       "73          28         28       73  \n",
       "125         24         24      125  \n",
       "107         30         30      107  \n",
       "127         23         23      127  \n",
       "74          28         28       74  \n",
       "29          25         26       29  \n",
       "111         28         28      111  \n",
       "1           27         26        1  \n",
       "47          23         23       47  "
      ]
     },
     "execution_count": 40,
     "metadata": {},
     "output_type": "execute_result"
    }
   ],
   "source": [
    "Data_ = Data.sample(10, replace = True)\n",
    "\n",
    "Data_"
   ]
  },
  {
   "cell_type": "code",
   "execution_count": 49,
   "metadata": {},
   "outputs": [
    {
     "data": {
      "text/plain": [
       "['Taman Rekreasi',\n",
       " 'Batu Kursi Raja Siallagan ( Stone Chair of King Siallagan )',\n",
       " 'Thermal Baths U.S.K Hineni',\n",
       " 'Bah Salak Waterfall',\n",
       " 'Air Panas Sipoholon',\n",
       " 'Parhallow viewpoint and coffee shop',\n",
       " 'objek wisata baronjong aek sirahar',\n",
       " 'Niagara sipitu Tikka',\n",
       " '\"Sicike-cike\" Nature Park',\n",
       " 'TWA Lau Debuk-debuk']"
      ]
     },
     "execution_count": 49,
     "metadata": {},
     "output_type": "execute_result"
    }
   ],
   "source": [
    "arr = []\n",
    "for i in Data_[\"City\"]:\n",
    "    arr.append(i)\n",
    "arr"
   ]
  },
  {
   "cell_type": "code",
   "execution_count": null,
   "metadata": {},
   "outputs": [],
   "source": []
  },
  {
   "cell_type": "code",
   "execution_count": null,
   "metadata": {},
   "outputs": [],
   "source": []
  },
  {
   "cell_type": "code",
   "execution_count": 50,
   "metadata": {},
   "outputs": [],
   "source": [
    "initial_state = []\n",
    "def Initial_State_Awal(arr):\n",
    "    for i in range (len(arr)):\n",
    "        x = random.choice(arr)\n",
    "        if x not in initial_state:\n",
    "            initial_state.append(x)\n",
    "    return initial_state "
   ]
  },
  {
   "cell_type": "code",
   "execution_count": 51,
   "metadata": {},
   "outputs": [
    {
     "data": {
      "text/plain": [
       "['Air Panas Sipoholon',\n",
       " 'objek wisata baronjong aek sirahar',\n",
       " '\"Sicike-cike\" Nature Park',\n",
       " 'Thermal Baths U.S.K Hineni',\n",
       " 'TWA Lau Debuk-debuk']"
      ]
     },
     "execution_count": 51,
     "metadata": {},
     "output_type": "execute_result"
    }
   ],
   "source": [
    "Awal = Initial_State_Awal(arr)\n",
    "Awal"
   ]
  },
  {
   "cell_type": "code",
   "execution_count": 58,
   "metadata": {},
   "outputs": [
    {
     "name": "stdout",
     "output_type": "stream",
     "text": [
      "0 = Taman Rekreasi\n",
      "1 = Batu Kursi Raja Siallagan ( Stone Chair of King Siallagan )\n",
      "2 = Thermal Baths U.S.K Hineni\n",
      "3 = Bah Salak Waterfall\n",
      "4 = Air Panas Sipoholon\n",
      "5 = Parhallow viewpoint and coffee shop\n",
      "6 = objek wisata baronjong aek sirahar\n",
      "7 = Niagara sipitu Tikka\n",
      "8 = \"Sicike-cike\" Nature Park\n",
      "9 = TWA Lau Debuk-debuk\n"
     ]
    }
   ],
   "source": [
    "# for item in df[\"Tempat Wisata\"][\"Pasir Putih Parbaba\"]:\n",
    "#     print(item)\n",
    "test = []\n",
    "for i in range(len(Data_)):\n",
    "    temp = Data_.iloc[i][\"City\"]\n",
    "    print(str(i) + \" = \" + temp)\n",
    "    if temp in Awal:\n",
    "        test.append((temp,(Data_.iloc[i][\"Latitude\"],Data_.iloc[i][\"Longitude\"])))   "
   ]
  },
  {
   "cell_type": "code",
   "execution_count": 59,
   "metadata": {},
   "outputs": [
    {
     "data": {
      "text/plain": [
       "[('Thermal Baths U.S.K Hineni', (0.03544994, 1.727544543)),\n",
       " ('Air Panas Sipoholon', (0.036266385, 1.726945295)),\n",
       " ('objek wisata baronjong aek sirahar', (0.038620995, 1.719916979)),\n",
       " ('\"Sicike-cike\" Nature Park', (0.046310397999999996, 1.7170872209999999)),\n",
       " ('TWA Lau Debuk-debuk', (0.056349509000000006, 1.7198486119999998))]"
      ]
     },
     "execution_count": 59,
     "metadata": {},
     "output_type": "execute_result"
    }
   ],
   "source": [
    "test"
   ]
  },
  {
   "cell_type": "code",
   "execution_count": 60,
   "metadata": {},
   "outputs": [],
   "source": [
    "arr1= []\n",
    "def Encoding(Awal):\n",
    "    arr1.clear()\n",
    "    for i in range(len(arr)):\n",
    "        cek = 0\n",
    "        for x in range(len(Awal)):\n",
    "            if arr[i] == Awal[x]:\n",
    "                cek = 1\n",
    "                break  \n",
    "        arr1.append(cek)\n",
    "\n",
    "    return arr1"
   ]
  },
  {
   "cell_type": "code",
   "execution_count": 65,
   "metadata": {},
   "outputs": [],
   "source": [
    "arr2= []\n",
    "def Encoding_index(Awal):\n",
    "    arr2.clear()\n",
    "    for i in range(len(Awal)):\n",
    "        for x in range(len(arr)):\n",
    "            if Awal[i] is arr[x]:\n",
    "                arr2.append(x+1)\n",
    "                break\n",
    "\n",
    "    return arr2"
   ]
  },
  {
   "cell_type": "code",
   "execution_count": 66,
   "metadata": {},
   "outputs": [
    {
     "data": {
      "text/plain": [
       "[5, 7, 9, 3, 10]"
      ]
     },
     "execution_count": 66,
     "metadata": {},
     "output_type": "execute_result"
    }
   ],
   "source": [
    "Itinerary = []\n",
    "Encoding_index(Awal)\n"
   ]
  },
  {
   "cell_type": "code",
   "execution_count": 68,
   "metadata": {},
   "outputs": [
    {
     "name": "stdout",
     "output_type": "stream",
     "text": [
      "['Niagara sipitu Tikka', 'Thermal Baths U.S.K Hineni', 'Taman Rekreasi', 'TWA Lau Debuk-debuk', 'Parhallow viewpoint and coffee shop', 'Air Panas Sipoholon', 'Batu Kursi Raja Siallagan ( Stone Chair of King Siallagan )']\n",
      "[1, 1, 1, 0, 1, 1, 0, 1, 0, 1]\n",
      "\n",
      "\n",
      "['Bah Salak Waterfall', 'Taman Rekreasi', '\"Sicike-cike\" Nature Park', 'Niagara sipitu Tikka', 'TWA Lau Debuk-debuk', 'Parhallow viewpoint and coffee shop', 'Thermal Baths U.S.K Hineni']\n",
      "[1, 0, 1, 1, 0, 1, 0, 1, 1, 1]\n",
      "\n",
      "\n",
      "['\"Sicike-cike\" Nature Park', 'Bah Salak Waterfall', 'Air Panas Sipoholon', 'Batu Kursi Raja Siallagan ( Stone Chair of King Siallagan )', 'Niagara sipitu Tikka', 'Parhallow viewpoint and coffee shop', 'Taman Rekreasi']\n",
      "[1, 1, 0, 1, 1, 1, 0, 1, 1, 0]\n",
      "\n",
      "\n",
      "['Taman Rekreasi', '\"Sicike-cike\" Nature Park', 'Batu Kursi Raja Siallagan ( Stone Chair of King Siallagan )', 'objek wisata baronjong aek sirahar', 'TWA Lau Debuk-debuk', 'Niagara sipitu Tikka', 'Air Panas Sipoholon']\n",
      "[1, 1, 0, 0, 1, 0, 1, 1, 1, 1]\n",
      "\n",
      "\n",
      "['TWA Lau Debuk-debuk', 'Parhallow viewpoint and coffee shop', 'Niagara sipitu Tikka', 'Air Panas Sipoholon', 'Bah Salak Waterfall', '\"Sicike-cike\" Nature Park', 'objek wisata baronjong aek sirahar']\n",
      "[0, 0, 0, 1, 1, 1, 1, 1, 1, 1]\n",
      "\n",
      "\n"
     ]
    }
   ],
   "source": [
    "for i in range (5):\n",
    "    Itinerary = random.sample(arr, N)\n",
    "    init_ = Encoding(Itinerary)\n",
    "    init__ = Encoding_index(Itinerary)\n",
    "    print(Itinerary)\n",
    "    print(init_)\n",
    "    \n",
    "    print(\"\\n\")\n",
    "    init_.clear()\n",
    "    init__.clear()\n",
    "    Itinerary.clear()"
   ]
  },
  {
   "cell_type": "code",
   "execution_count": null,
   "metadata": {},
   "outputs": [],
   "source": []
  }
 ],
 "metadata": {
  "kernelspec": {
   "display_name": "Python 3",
   "language": "python",
   "name": "python3"
  },
  "language_info": {
   "codemirror_mode": {
    "name": "ipython",
    "version": 3
   },
   "file_extension": ".py",
   "mimetype": "text/x-python",
   "name": "python",
   "nbconvert_exporter": "python",
   "pygments_lexer": "ipython3",
   "version": "3.7.3"
  }
 },
 "nbformat": 4,
 "nbformat_minor": 2
}
